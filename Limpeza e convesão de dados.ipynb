{
 "cells": [
  {
   "cell_type": "markdown",
   "metadata": {},
   "source": [
    "### Limpeza de dados"
   ]
  },
  {
   "cell_type": "code",
   "execution_count": 1,
   "metadata": {},
   "outputs": [],
   "source": [
    "import pandas as pd\n",
    "import numpy as np\n",
    "import matplotlib.pyplot as plt\n",
    "import seaborn as sns\n",
    "import datetime as dt\n",
    "from io import StringIO"
   ]
  },
  {
   "cell_type": "code",
   "execution_count": 2,
   "metadata": {},
   "outputs": [],
   "source": [
    "emprestimo = pd.read_csv('emprestimo.csv')\n",
    "dados_exemplares = pd.read_csv('dados_exemplares.csv')"
   ]
  },
  {
   "cell_type": "code",
   "execution_count": 3,
   "metadata": {},
   "outputs": [],
   "source": [
    "matricula_alunos = pd.read_csv('matricula_alunos.csv')\n",
    "usuarios = pd.read_csv('usuarios.csv')"
   ]
  },
  {
   "cell_type": "code",
   "execution_count": 4,
   "metadata": {},
   "outputs": [
    {
     "data": {
      "text/plain": [
       "(2258018, 8)"
      ]
     },
     "execution_count": 4,
     "metadata": {},
     "output_type": "execute_result"
    }
   ],
   "source": [
    "emprestimo.shape"
   ]
  },
  {
   "cell_type": "code",
   "execution_count": 5,
   "metadata": {},
   "outputs": [
    {
     "data": {
      "text/plain": [
       "(2258018, 8)"
      ]
     },
     "execution_count": 5,
     "metadata": {},
     "output_type": "execute_result"
    }
   ],
   "source": [
    "emprestimo.drop_duplicates().shape"
   ]
  },
  {
   "cell_type": "code",
   "execution_count": 6,
   "metadata": {},
   "outputs": [
    {
     "data": {
      "text/plain": [
       "(546237, 8)"
      ]
     },
     "execution_count": 6,
     "metadata": {},
     "output_type": "execute_result"
    }
   ],
   "source": [
    "dados_exemplares.shape"
   ]
  },
  {
   "cell_type": "code",
   "execution_count": 7,
   "metadata": {},
   "outputs": [
    {
     "data": {
      "text/plain": [
       "(546237, 8)"
      ]
     },
     "execution_count": 7,
     "metadata": {},
     "output_type": "execute_result"
    }
   ],
   "source": [
    "dados_exemplares.drop_duplicates().shape"
   ]
  },
  {
   "cell_type": "code",
   "execution_count": 8,
   "metadata": {},
   "outputs": [
    {
     "data": {
      "text/plain": [
       "(7726, 4)"
      ]
     },
     "execution_count": 8,
     "metadata": {},
     "output_type": "execute_result"
    }
   ],
   "source": [
    "matricula_alunos.shape\n"
   ]
  },
  {
   "cell_type": "code",
   "execution_count": 9,
   "metadata": {},
   "outputs": [
    {
     "data": {
      "text/plain": [
       "(7726, 4)"
      ]
     },
     "execution_count": 9,
     "metadata": {},
     "output_type": "execute_result"
    }
   ],
   "source": [
    "matricula_alunos.drop_duplicates().shape\n"
   ]
  },
  {
   "cell_type": "code",
   "execution_count": 10,
   "metadata": {},
   "outputs": [
    {
     "data": {
      "text/plain": [
       "(62802, 4)"
      ]
     },
     "execution_count": 10,
     "metadata": {},
     "output_type": "execute_result"
    }
   ],
   "source": [
    "usuarios.shape"
   ]
  },
  {
   "cell_type": "code",
   "execution_count": 11,
   "metadata": {},
   "outputs": [
    {
     "data": {
      "text/plain": [
       "(62802, 4)"
      ]
     },
     "execution_count": 11,
     "metadata": {},
     "output_type": "execute_result"
    }
   ],
   "source": [
    "usuarios.drop_duplicates().shape"
   ]
  },
  {
   "cell_type": "code",
   "execution_count": 12,
   "metadata": {},
   "outputs": [
    {
     "name": "stdout",
     "output_type": "stream",
     "text": [
      "<class 'pandas.core.frame.DataFrame'>\n",
      "RangeIndex: 2258018 entries, 0 to 2258017\n",
      "Data columns (total 8 columns):\n",
      " #   Column                Dtype  \n",
      "---  ------                -----  \n",
      " 0   Unnamed: 0            int64  \n",
      " 1   id_emprestimo         int64  \n",
      " 2   codigo_barras         object \n",
      " 3   data_renovacao        object \n",
      " 4   data_emprestimo       object \n",
      " 5   data_devolucao        object \n",
      " 6   matricula_ou_siape    float64\n",
      " 7   tipo_vinculo_usuario  object \n",
      "dtypes: float64(1), int64(2), object(5)\n",
      "memory usage: 137.8+ MB\n"
     ]
    }
   ],
   "source": [
    "emprestimo.info()"
   ]
  },
  {
   "cell_type": "code",
   "execution_count": 13,
   "metadata": {},
   "outputs": [],
   "source": [
    "# removendo coluna desnecessária\n",
    "emprestimo.drop(columns='Unnamed: 0', inplace=True)"
   ]
  },
  {
   "cell_type": "code",
   "execution_count": 14,
   "metadata": {},
   "outputs": [
    {
     "name": "stdout",
     "output_type": "stream",
     "text": [
      "<class 'pandas.core.frame.DataFrame'>\n",
      "RangeIndex: 546237 entries, 0 to 546236\n",
      "Data columns (total 8 columns):\n",
      " #   Column            Non-Null Count   Dtype \n",
      "---  ------            --------------   ----- \n",
      " 0   index             546237 non-null  int64 \n",
      " 1   id_exemplar       546237 non-null  int64 \n",
      " 2   codigo_barras     546237 non-null  object\n",
      " 3   colecao           546237 non-null  object\n",
      " 4   biblioteca        546237 non-null  object\n",
      " 5   status_material   546237 non-null  object\n",
      " 6   localizacao       546237 non-null  int64 \n",
      " 7   registro_sistema  546237 non-null  int64 \n",
      "dtypes: int64(4), object(4)\n",
      "memory usage: 33.3+ MB\n"
     ]
    }
   ],
   "source": [
    "dados_exemplares.info()"
   ]
  },
  {
   "cell_type": "code",
   "execution_count": 15,
   "metadata": {},
   "outputs": [],
   "source": [
    "dados_exemplares.drop(columns='registro_sistema', inplace=True)\n",
    "dados_exemplares.drop(columns='index', inplace=True)"
   ]
  },
  {
   "cell_type": "markdown",
   "metadata": {},
   "source": [
    "#### Materiais x Utilização"
   ]
  },
  {
   "cell_type": "code",
   "execution_count": 16,
   "metadata": {},
   "outputs": [],
   "source": [
    "# unificando todos os dados\n",
    "emprestimo_exemplares = emprestimo.merge(dados_exemplares, how = 'left')"
   ]
  },
  {
   "cell_type": "code",
   "execution_count": 17,
   "metadata": {},
   "outputs": [
    {
     "data": {
      "text/plain": [
       "id_emprestimo                 0\n",
       "codigo_barras                 0\n",
       "data_renovacao          1287963\n",
       "data_emprestimo               0\n",
       "data_devolucao             6484\n",
       "matricula_ou_siape         3171\n",
       "tipo_vinculo_usuario          0\n",
       "id_exemplar              189258\n",
       "colecao                  189258\n",
       "biblioteca               189258\n",
       "status_material          189258\n",
       "localizacao              189258\n",
       "dtype: int64"
      ]
     },
     "execution_count": 17,
     "metadata": {},
     "output_type": "execute_result"
    }
   ],
   "source": [
    "emprestimo_exemplares.isnull().sum()"
   ]
  },
  {
   "cell_type": "code",
   "execution_count": 18,
   "metadata": {},
   "outputs": [
    {
     "data": {
      "text/html": [
       "<div>\n",
       "<style scoped>\n",
       "    .dataframe tbody tr th:only-of-type {\n",
       "        vertical-align: middle;\n",
       "    }\n",
       "\n",
       "    .dataframe tbody tr th {\n",
       "        vertical-align: top;\n",
       "    }\n",
       "\n",
       "    .dataframe thead th {\n",
       "        text-align: right;\n",
       "    }\n",
       "</style>\n",
       "<table border=\"1\" class=\"dataframe\">\n",
       "  <thead>\n",
       "    <tr style=\"text-align: right;\">\n",
       "      <th></th>\n",
       "      <th>id_emprestimo</th>\n",
       "      <th>codigo_barras</th>\n",
       "      <th>data_renovacao</th>\n",
       "      <th>data_emprestimo</th>\n",
       "      <th>data_devolucao</th>\n",
       "      <th>matricula_ou_siape</th>\n",
       "      <th>tipo_vinculo_usuario</th>\n",
       "      <th>id_exemplar</th>\n",
       "      <th>colecao</th>\n",
       "      <th>biblioteca</th>\n",
       "      <th>status_material</th>\n",
       "      <th>localizacao</th>\n",
       "    </tr>\n",
       "  </thead>\n",
       "  <tbody>\n",
       "    <tr>\n",
       "      <th>23</th>\n",
       "      <td>False</td>\n",
       "      <td>False</td>\n",
       "      <td>False</td>\n",
       "      <td>False</td>\n",
       "      <td>False</td>\n",
       "      <td>False</td>\n",
       "      <td>False</td>\n",
       "      <td>True</td>\n",
       "      <td>True</td>\n",
       "      <td>True</td>\n",
       "      <td>True</td>\n",
       "      <td>True</td>\n",
       "    </tr>\n",
       "    <tr>\n",
       "      <th>116</th>\n",
       "      <td>False</td>\n",
       "      <td>False</td>\n",
       "      <td>True</td>\n",
       "      <td>False</td>\n",
       "      <td>False</td>\n",
       "      <td>False</td>\n",
       "      <td>False</td>\n",
       "      <td>True</td>\n",
       "      <td>True</td>\n",
       "      <td>True</td>\n",
       "      <td>True</td>\n",
       "      <td>True</td>\n",
       "    </tr>\n",
       "    <tr>\n",
       "      <th>127</th>\n",
       "      <td>False</td>\n",
       "      <td>False</td>\n",
       "      <td>False</td>\n",
       "      <td>False</td>\n",
       "      <td>False</td>\n",
       "      <td>False</td>\n",
       "      <td>False</td>\n",
       "      <td>True</td>\n",
       "      <td>True</td>\n",
       "      <td>True</td>\n",
       "      <td>True</td>\n",
       "      <td>True</td>\n",
       "    </tr>\n",
       "    <tr>\n",
       "      <th>136</th>\n",
       "      <td>False</td>\n",
       "      <td>False</td>\n",
       "      <td>False</td>\n",
       "      <td>False</td>\n",
       "      <td>False</td>\n",
       "      <td>False</td>\n",
       "      <td>False</td>\n",
       "      <td>True</td>\n",
       "      <td>True</td>\n",
       "      <td>True</td>\n",
       "      <td>True</td>\n",
       "      <td>True</td>\n",
       "    </tr>\n",
       "    <tr>\n",
       "      <th>137</th>\n",
       "      <td>False</td>\n",
       "      <td>False</td>\n",
       "      <td>False</td>\n",
       "      <td>False</td>\n",
       "      <td>False</td>\n",
       "      <td>False</td>\n",
       "      <td>False</td>\n",
       "      <td>True</td>\n",
       "      <td>True</td>\n",
       "      <td>True</td>\n",
       "      <td>True</td>\n",
       "      <td>True</td>\n",
       "    </tr>\n",
       "    <tr>\n",
       "      <th>...</th>\n",
       "      <td>...</td>\n",
       "      <td>...</td>\n",
       "      <td>...</td>\n",
       "      <td>...</td>\n",
       "      <td>...</td>\n",
       "      <td>...</td>\n",
       "      <td>...</td>\n",
       "      <td>...</td>\n",
       "      <td>...</td>\n",
       "      <td>...</td>\n",
       "      <td>...</td>\n",
       "      <td>...</td>\n",
       "    </tr>\n",
       "    <tr>\n",
       "      <th>2261712</th>\n",
       "      <td>False</td>\n",
       "      <td>False</td>\n",
       "      <td>True</td>\n",
       "      <td>False</td>\n",
       "      <td>False</td>\n",
       "      <td>False</td>\n",
       "      <td>False</td>\n",
       "      <td>True</td>\n",
       "      <td>True</td>\n",
       "      <td>True</td>\n",
       "      <td>True</td>\n",
       "      <td>True</td>\n",
       "    </tr>\n",
       "    <tr>\n",
       "      <th>2261721</th>\n",
       "      <td>False</td>\n",
       "      <td>False</td>\n",
       "      <td>True</td>\n",
       "      <td>False</td>\n",
       "      <td>False</td>\n",
       "      <td>False</td>\n",
       "      <td>False</td>\n",
       "      <td>True</td>\n",
       "      <td>True</td>\n",
       "      <td>True</td>\n",
       "      <td>True</td>\n",
       "      <td>True</td>\n",
       "    </tr>\n",
       "    <tr>\n",
       "      <th>2261737</th>\n",
       "      <td>False</td>\n",
       "      <td>False</td>\n",
       "      <td>False</td>\n",
       "      <td>False</td>\n",
       "      <td>True</td>\n",
       "      <td>False</td>\n",
       "      <td>False</td>\n",
       "      <td>True</td>\n",
       "      <td>True</td>\n",
       "      <td>True</td>\n",
       "      <td>True</td>\n",
       "      <td>True</td>\n",
       "    </tr>\n",
       "    <tr>\n",
       "      <th>2261740</th>\n",
       "      <td>False</td>\n",
       "      <td>False</td>\n",
       "      <td>True</td>\n",
       "      <td>False</td>\n",
       "      <td>False</td>\n",
       "      <td>False</td>\n",
       "      <td>False</td>\n",
       "      <td>True</td>\n",
       "      <td>True</td>\n",
       "      <td>True</td>\n",
       "      <td>True</td>\n",
       "      <td>True</td>\n",
       "    </tr>\n",
       "    <tr>\n",
       "      <th>2261741</th>\n",
       "      <td>False</td>\n",
       "      <td>False</td>\n",
       "      <td>True</td>\n",
       "      <td>False</td>\n",
       "      <td>False</td>\n",
       "      <td>False</td>\n",
       "      <td>False</td>\n",
       "      <td>True</td>\n",
       "      <td>True</td>\n",
       "      <td>True</td>\n",
       "      <td>True</td>\n",
       "      <td>True</td>\n",
       "    </tr>\n",
       "  </tbody>\n",
       "</table>\n",
       "<p>189258 rows × 12 columns</p>\n",
       "</div>"
      ],
      "text/plain": [
       "         id_emprestimo  codigo_barras  data_renovacao  data_emprestimo  \\\n",
       "23               False          False           False            False   \n",
       "116              False          False            True            False   \n",
       "127              False          False           False            False   \n",
       "136              False          False           False            False   \n",
       "137              False          False           False            False   \n",
       "...                ...            ...             ...              ...   \n",
       "2261712          False          False            True            False   \n",
       "2261721          False          False            True            False   \n",
       "2261737          False          False           False            False   \n",
       "2261740          False          False            True            False   \n",
       "2261741          False          False            True            False   \n",
       "\n",
       "         data_devolucao  matricula_ou_siape  tipo_vinculo_usuario  \\\n",
       "23                False               False                 False   \n",
       "116               False               False                 False   \n",
       "127               False               False                 False   \n",
       "136               False               False                 False   \n",
       "137               False               False                 False   \n",
       "...                 ...                 ...                   ...   \n",
       "2261712           False               False                 False   \n",
       "2261721           False               False                 False   \n",
       "2261737            True               False                 False   \n",
       "2261740           False               False                 False   \n",
       "2261741           False               False                 False   \n",
       "\n",
       "         id_exemplar  colecao  biblioteca  status_material  localizacao  \n",
       "23              True     True        True             True         True  \n",
       "116             True     True        True             True         True  \n",
       "127             True     True        True             True         True  \n",
       "136             True     True        True             True         True  \n",
       "137             True     True        True             True         True  \n",
       "...              ...      ...         ...              ...          ...  \n",
       "2261712         True     True        True             True         True  \n",
       "2261721         True     True        True             True         True  \n",
       "2261737         True     True        True             True         True  \n",
       "2261740         True     True        True             True         True  \n",
       "2261741         True     True        True             True         True  \n",
       "\n",
       "[189258 rows x 12 columns]"
      ]
     },
     "execution_count": 18,
     "metadata": {},
     "output_type": "execute_result"
    }
   ],
   "source": [
    "emprestimo_exemplares.isnull().query('localizacao == True')"
   ]
  },
  {
   "cell_type": "code",
   "execution_count": 19,
   "metadata": {},
   "outputs": [
    {
     "data": {
      "text/html": [
       "<div>\n",
       "<style scoped>\n",
       "    .dataframe tbody tr th:only-of-type {\n",
       "        vertical-align: middle;\n",
       "    }\n",
       "\n",
       "    .dataframe tbody tr th {\n",
       "        vertical-align: top;\n",
       "    }\n",
       "\n",
       "    .dataframe thead th {\n",
       "        text-align: right;\n",
       "    }\n",
       "</style>\n",
       "<table border=\"1\" class=\"dataframe\">\n",
       "  <thead>\n",
       "    <tr style=\"text-align: right;\">\n",
       "      <th></th>\n",
       "      <th>id_emprestimo</th>\n",
       "      <th>codigo_barras</th>\n",
       "      <th>data_renovacao</th>\n",
       "      <th>data_emprestimo</th>\n",
       "      <th>data_devolucao</th>\n",
       "      <th>matricula_ou_siape</th>\n",
       "      <th>tipo_vinculo_usuario</th>\n",
       "      <th>id_exemplar</th>\n",
       "      <th>colecao</th>\n",
       "      <th>biblioteca</th>\n",
       "      <th>status_material</th>\n",
       "      <th>localizacao</th>\n",
       "    </tr>\n",
       "  </thead>\n",
       "  <tbody>\n",
       "    <tr>\n",
       "      <th>0</th>\n",
       "      <td>709684</td>\n",
       "      <td>L095049</td>\n",
       "      <td>NaN</td>\n",
       "      <td>2010/01/04 07:44:10.721000000</td>\n",
       "      <td>2010/01/05 16:26:12.662000000</td>\n",
       "      <td>2.008023e+09</td>\n",
       "      <td>ALUNO DE GRADUAÇÃO</td>\n",
       "      <td>13259.0</td>\n",
       "      <td>Acervo Circulante</td>\n",
       "      <td>Biblioteca Central Zila Mamede</td>\n",
       "      <td>REGULAR</td>\n",
       "      <td>630.0</td>\n",
       "    </tr>\n",
       "    <tr>\n",
       "      <th>1</th>\n",
       "      <td>709685</td>\n",
       "      <td>L167050</td>\n",
       "      <td>NaN</td>\n",
       "      <td>2010/01/04 07:44:10.750000000</td>\n",
       "      <td>2010/01/12 07:34:13.934000000</td>\n",
       "      <td>2.008023e+09</td>\n",
       "      <td>ALUNO DE GRADUAÇÃO</td>\n",
       "      <td>70865.0</td>\n",
       "      <td>Acervo Circulante</td>\n",
       "      <td>Biblioteca Central Zila Mamede</td>\n",
       "      <td>REGULAR</td>\n",
       "      <td>647.0</td>\n",
       "    </tr>\n",
       "    <tr>\n",
       "      <th>2</th>\n",
       "      <td>709686</td>\n",
       "      <td>2006017618</td>\n",
       "      <td>2010/01/26 08:07:01.738000000</td>\n",
       "      <td>2010/01/04 08:08:44.081000000</td>\n",
       "      <td>2010/02/25 07:36:25.800000000</td>\n",
       "      <td>2.008112e+09</td>\n",
       "      <td>ALUNO DE PÓS-GRADUAÇÃO</td>\n",
       "      <td>195347.0</td>\n",
       "      <td>Acervo Circulante</td>\n",
       "      <td>Biblioteca Setorial Prof. Rodolfo Helinski - E...</td>\n",
       "      <td>REGULAR</td>\n",
       "      <td>640.0</td>\n",
       "    </tr>\n",
       "    <tr>\n",
       "      <th>3</th>\n",
       "      <td>709687</td>\n",
       "      <td>L184117</td>\n",
       "      <td>2010/01/18 11:07:46.470000000</td>\n",
       "      <td>2010/01/04 08:24:21.284000000</td>\n",
       "      <td>2010/02/03 08:58:45.692000000</td>\n",
       "      <td>2.007211e+08</td>\n",
       "      <td>ALUNO DE GRADUAÇÃO</td>\n",
       "      <td>131639.0</td>\n",
       "      <td>Acervo Circulante</td>\n",
       "      <td>Biblioteca Central Zila Mamede</td>\n",
       "      <td>REGULAR</td>\n",
       "      <td>609.0</td>\n",
       "    </tr>\n",
       "    <tr>\n",
       "      <th>4</th>\n",
       "      <td>709684</td>\n",
       "      <td>L095049</td>\n",
       "      <td>NaN</td>\n",
       "      <td>2010/01/04 07:44:10.721000000</td>\n",
       "      <td>2010/01/05 16:26:12.662000000</td>\n",
       "      <td>2.008023e+09</td>\n",
       "      <td>ALUNO DE GRADUAÇÃO</td>\n",
       "      <td>13259.0</td>\n",
       "      <td>Acervo Circulante</td>\n",
       "      <td>Biblioteca Central Zila Mamede</td>\n",
       "      <td>REGULAR</td>\n",
       "      <td>630.0</td>\n",
       "    </tr>\n",
       "  </tbody>\n",
       "</table>\n",
       "</div>"
      ],
      "text/plain": [
       "   id_emprestimo codigo_barras                 data_renovacao  \\\n",
       "0         709684       L095049                            NaN   \n",
       "1         709685       L167050                            NaN   \n",
       "2         709686    2006017618  2010/01/26 08:07:01.738000000   \n",
       "3         709687       L184117  2010/01/18 11:07:46.470000000   \n",
       "4         709684       L095049                            NaN   \n",
       "\n",
       "                 data_emprestimo                 data_devolucao  \\\n",
       "0  2010/01/04 07:44:10.721000000  2010/01/05 16:26:12.662000000   \n",
       "1  2010/01/04 07:44:10.750000000  2010/01/12 07:34:13.934000000   \n",
       "2  2010/01/04 08:08:44.081000000  2010/02/25 07:36:25.800000000   \n",
       "3  2010/01/04 08:24:21.284000000  2010/02/03 08:58:45.692000000   \n",
       "4  2010/01/04 07:44:10.721000000  2010/01/05 16:26:12.662000000   \n",
       "\n",
       "   matricula_ou_siape    tipo_vinculo_usuario  id_exemplar            colecao  \\\n",
       "0        2.008023e+09      ALUNO DE GRADUAÇÃO      13259.0  Acervo Circulante   \n",
       "1        2.008023e+09      ALUNO DE GRADUAÇÃO      70865.0  Acervo Circulante   \n",
       "2        2.008112e+09  ALUNO DE PÓS-GRADUAÇÃO     195347.0  Acervo Circulante   \n",
       "3        2.007211e+08      ALUNO DE GRADUAÇÃO     131639.0  Acervo Circulante   \n",
       "4        2.008023e+09      ALUNO DE GRADUAÇÃO      13259.0  Acervo Circulante   \n",
       "\n",
       "                                          biblioteca status_material  \\\n",
       "0                     Biblioteca Central Zila Mamede         REGULAR   \n",
       "1                     Biblioteca Central Zila Mamede         REGULAR   \n",
       "2  Biblioteca Setorial Prof. Rodolfo Helinski - E...         REGULAR   \n",
       "3                     Biblioteca Central Zila Mamede         REGULAR   \n",
       "4                     Biblioteca Central Zila Mamede         REGULAR   \n",
       "\n",
       "   localizacao  \n",
       "0        630.0  \n",
       "1        647.0  \n",
       "2        640.0  \n",
       "3        609.0  \n",
       "4        630.0  "
      ]
     },
     "execution_count": 19,
     "metadata": {},
     "output_type": "execute_result"
    }
   ],
   "source": [
    "emprestimo_exemplares.head()"
   ]
  },
  {
   "cell_type": "code",
   "execution_count": 20,
   "metadata": {},
   "outputs": [
    {
     "name": "stdout",
     "output_type": "stream",
     "text": [
      "<class 'pandas.core.frame.DataFrame'>\n",
      "RangeIndex: 2261816 entries, 0 to 2261815\n",
      "Data columns (total 12 columns):\n",
      " #   Column                Dtype  \n",
      "---  ------                -----  \n",
      " 0   id_emprestimo         int64  \n",
      " 1   codigo_barras         object \n",
      " 2   data_renovacao        object \n",
      " 3   data_emprestimo       object \n",
      " 4   data_devolucao        object \n",
      " 5   matricula_ou_siape    float64\n",
      " 6   tipo_vinculo_usuario  object \n",
      " 7   id_exemplar           float64\n",
      " 8   colecao               object \n",
      " 9   biblioteca            object \n",
      " 10  status_material       object \n",
      " 11  localizacao           float64\n",
      "dtypes: float64(3), int64(1), object(8)\n",
      "memory usage: 207.1+ MB\n"
     ]
    }
   ],
   "source": [
    "emprestimo_exemplares.info()"
   ]
  },
  {
   "cell_type": "markdown",
   "metadata": {},
   "source": [
    "##### Criando coluna CDU"
   ]
  },
  {
   "cell_type": "code",
   "execution_count": 21,
   "metadata": {},
   "outputs": [],
   "source": [
    "emprestimo_exemplares['localizacao'].fillna(value = -1, inplace= True)"
   ]
  },
  {
   "cell_type": "code",
   "execution_count": 22,
   "metadata": {},
   "outputs": [],
   "source": [
    "# incluindo coluna explicando localização\n",
    "def localizacao(linha):\n",
    "  linha = float(linha)\n",
    "  if linha != -1:  \n",
    "    if linha <= 999:\n",
    "      return 'Geografia. Biografia. História'\n",
    "    elif  linha <= 899:\n",
    "      return 'Linguagem. Língua. Linguística'\n",
    "    elif  linha <= 799:\n",
    "      return 'Belas artes'\n",
    "    elif  linha <= 699:\n",
    "      return 'Ciências aplicadas'\n",
    "    elif  linha <= 599:\n",
    "      return 'Matemática e ciências naturais'\n",
    "    elif  linha <= 499:\n",
    "      return 'Classe vaga. Provisoriamente não ocupada'\n",
    "    elif  linha <= 399:\n",
    "      return 'Ciências sociais'\n",
    "    elif  linha <= 299:\n",
    "      return 'Religião'\n",
    "    elif linha <= 199:\n",
    "      return 'Filosofia e psicologia'\n",
    "    else:\n",
    "      return 'Generalidades. Ciência e conhecimento'\n",
    "  else:\n",
    "    return 'Sem classificação'"
   ]
  },
  {
   "cell_type": "code",
   "execution_count": 23,
   "metadata": {},
   "outputs": [],
   "source": [
    "emprestimo_exemplares['CDU'] = emprestimo_exemplares[\"localizacao\"].map(localizacao)"
   ]
  },
  {
   "cell_type": "code",
   "execution_count": 24,
   "metadata": {},
   "outputs": [
    {
     "data": {
      "text/html": [
       "<div>\n",
       "<style scoped>\n",
       "    .dataframe tbody tr th:only-of-type {\n",
       "        vertical-align: middle;\n",
       "    }\n",
       "\n",
       "    .dataframe tbody tr th {\n",
       "        vertical-align: top;\n",
       "    }\n",
       "\n",
       "    .dataframe thead th {\n",
       "        text-align: right;\n",
       "    }\n",
       "</style>\n",
       "<table border=\"1\" class=\"dataframe\">\n",
       "  <thead>\n",
       "    <tr style=\"text-align: right;\">\n",
       "      <th></th>\n",
       "      <th>id_emprestimo</th>\n",
       "      <th>codigo_barras</th>\n",
       "      <th>data_renovacao</th>\n",
       "      <th>data_emprestimo</th>\n",
       "      <th>data_devolucao</th>\n",
       "      <th>matricula_ou_siape</th>\n",
       "      <th>tipo_vinculo_usuario</th>\n",
       "      <th>id_exemplar</th>\n",
       "      <th>colecao</th>\n",
       "      <th>biblioteca</th>\n",
       "      <th>status_material</th>\n",
       "      <th>localizacao</th>\n",
       "      <th>CDU</th>\n",
       "    </tr>\n",
       "  </thead>\n",
       "  <tbody>\n",
       "    <tr>\n",
       "      <th>23</th>\n",
       "      <td>709701</td>\n",
       "      <td>L163841</td>\n",
       "      <td>2010/01/19 19:02:53.450000000</td>\n",
       "      <td>2010/01/04 09:48:05.604000000</td>\n",
       "      <td>2010/02/04 18:23:49.946000000</td>\n",
       "      <td>2.008029e+09</td>\n",
       "      <td>ALUNO DE GRADUAÇÃO</td>\n",
       "      <td>NaN</td>\n",
       "      <td>NaN</td>\n",
       "      <td>NaN</td>\n",
       "      <td>NaN</td>\n",
       "      <td>-1.0</td>\n",
       "      <td>Sem classificação</td>\n",
       "    </tr>\n",
       "    <tr>\n",
       "      <th>116</th>\n",
       "      <td>709782</td>\n",
       "      <td>L165850</td>\n",
       "      <td>NaN</td>\n",
       "      <td>2010/01/04 14:06:16.699000000</td>\n",
       "      <td>2010/01/22 16:09:20.065000000</td>\n",
       "      <td>2.006213e+08</td>\n",
       "      <td>ALUNO DE GRADUAÇÃO</td>\n",
       "      <td>NaN</td>\n",
       "      <td>NaN</td>\n",
       "      <td>NaN</td>\n",
       "      <td>NaN</td>\n",
       "      <td>-1.0</td>\n",
       "      <td>Sem classificação</td>\n",
       "    </tr>\n",
       "    <tr>\n",
       "      <th>127</th>\n",
       "      <td>709793</td>\n",
       "      <td>L178388</td>\n",
       "      <td>2010/01/19 16:31:44.491000000</td>\n",
       "      <td>2010/01/04 14:47:41.976000000</td>\n",
       "      <td>2010/02/01 16:29:17.951000000</td>\n",
       "      <td>2.005063e+08</td>\n",
       "      <td>ALUNO DE GRADUAÇÃO</td>\n",
       "      <td>NaN</td>\n",
       "      <td>NaN</td>\n",
       "      <td>NaN</td>\n",
       "      <td>NaN</td>\n",
       "      <td>-1.0</td>\n",
       "      <td>Sem classificação</td>\n",
       "    </tr>\n",
       "    <tr>\n",
       "      <th>136</th>\n",
       "      <td>709802</td>\n",
       "      <td>2009032201</td>\n",
       "      <td>2010/01/19 16:13:22.082000000</td>\n",
       "      <td>2010/01/04 14:57:23.766000000</td>\n",
       "      <td>2010/02/03 14:04:04.222000000</td>\n",
       "      <td>2.009054e+09</td>\n",
       "      <td>ALUNO DE GRADUAÇÃO</td>\n",
       "      <td>NaN</td>\n",
       "      <td>NaN</td>\n",
       "      <td>NaN</td>\n",
       "      <td>NaN</td>\n",
       "      <td>-1.0</td>\n",
       "      <td>Sem classificação</td>\n",
       "    </tr>\n",
       "    <tr>\n",
       "      <th>137</th>\n",
       "      <td>709803</td>\n",
       "      <td>L188583</td>\n",
       "      <td>2010/02/01 15:52:28.614000000</td>\n",
       "      <td>2010/01/04 15:03:04.753000000</td>\n",
       "      <td>2010/03/02 17:58:07.985000000</td>\n",
       "      <td>2.010117e+09</td>\n",
       "      <td>ALUNO DE PÓS-GRADUAÇÃO</td>\n",
       "      <td>NaN</td>\n",
       "      <td>NaN</td>\n",
       "      <td>NaN</td>\n",
       "      <td>NaN</td>\n",
       "      <td>-1.0</td>\n",
       "      <td>Sem classificação</td>\n",
       "    </tr>\n",
       "    <tr>\n",
       "      <th>...</th>\n",
       "      <td>...</td>\n",
       "      <td>...</td>\n",
       "      <td>...</td>\n",
       "      <td>...</td>\n",
       "      <td>...</td>\n",
       "      <td>...</td>\n",
       "      <td>...</td>\n",
       "      <td>...</td>\n",
       "      <td>...</td>\n",
       "      <td>...</td>\n",
       "      <td>...</td>\n",
       "      <td>...</td>\n",
       "      <td>...</td>\n",
       "    </tr>\n",
       "    <tr>\n",
       "      <th>2261712</th>\n",
       "      <td>2988987</td>\n",
       "      <td>Y020128</td>\n",
       "      <td>NaN</td>\n",
       "      <td>2020/03/17 19:14:36.276000000</td>\n",
       "      <td>2021/07/30 14:46:13.000000000</td>\n",
       "      <td>2.016093e+09</td>\n",
       "      <td>ALUNO DE GRADUAÇÃO</td>\n",
       "      <td>NaN</td>\n",
       "      <td>NaN</td>\n",
       "      <td>NaN</td>\n",
       "      <td>NaN</td>\n",
       "      <td>-1.0</td>\n",
       "      <td>Sem classificação</td>\n",
       "    </tr>\n",
       "    <tr>\n",
       "      <th>2261721</th>\n",
       "      <td>2988996</td>\n",
       "      <td>L202960</td>\n",
       "      <td>NaN</td>\n",
       "      <td>2020/03/17 19:19:44.292000000</td>\n",
       "      <td>2021/07/06 12:17:46.000000000</td>\n",
       "      <td>2.014102e+09</td>\n",
       "      <td>ALUNO DE PÓS-GRADUAÇÃO</td>\n",
       "      <td>NaN</td>\n",
       "      <td>NaN</td>\n",
       "      <td>NaN</td>\n",
       "      <td>NaN</td>\n",
       "      <td>-1.0</td>\n",
       "      <td>Sem classificação</td>\n",
       "    </tr>\n",
       "    <tr>\n",
       "      <th>2261737</th>\n",
       "      <td>2989012</td>\n",
       "      <td>C022707</td>\n",
       "      <td>2020/04/03 10:57:09.536000000</td>\n",
       "      <td>2020/03/17 19:31:47.457000000</td>\n",
       "      <td>NaN</td>\n",
       "      <td>2.017006e+10</td>\n",
       "      <td>ALUNO DE GRADUAÇÃO</td>\n",
       "      <td>NaN</td>\n",
       "      <td>NaN</td>\n",
       "      <td>NaN</td>\n",
       "      <td>NaN</td>\n",
       "      <td>-1.0</td>\n",
       "      <td>Sem classificação</td>\n",
       "    </tr>\n",
       "    <tr>\n",
       "      <th>2261740</th>\n",
       "      <td>2989015</td>\n",
       "      <td>C020979</td>\n",
       "      <td>NaN</td>\n",
       "      <td>2020/03/17 19:42:58.781000000</td>\n",
       "      <td>2021/01/04 14:24:32.000000000</td>\n",
       "      <td>2.014017e+09</td>\n",
       "      <td>ALUNO DE GRADUAÇÃO</td>\n",
       "      <td>NaN</td>\n",
       "      <td>NaN</td>\n",
       "      <td>NaN</td>\n",
       "      <td>NaN</td>\n",
       "      <td>-1.0</td>\n",
       "      <td>Sem classificação</td>\n",
       "    </tr>\n",
       "    <tr>\n",
       "      <th>2261741</th>\n",
       "      <td>2989016</td>\n",
       "      <td>C021490</td>\n",
       "      <td>NaN</td>\n",
       "      <td>2020/03/17 19:42:58.828000000</td>\n",
       "      <td>2021/01/04 14:25:22.000000000</td>\n",
       "      <td>2.014017e+09</td>\n",
       "      <td>ALUNO DE GRADUAÇÃO</td>\n",
       "      <td>NaN</td>\n",
       "      <td>NaN</td>\n",
       "      <td>NaN</td>\n",
       "      <td>NaN</td>\n",
       "      <td>-1.0</td>\n",
       "      <td>Sem classificação</td>\n",
       "    </tr>\n",
       "  </tbody>\n",
       "</table>\n",
       "<p>189258 rows × 13 columns</p>\n",
       "</div>"
      ],
      "text/plain": [
       "         id_emprestimo codigo_barras                 data_renovacao  \\\n",
       "23              709701       L163841  2010/01/19 19:02:53.450000000   \n",
       "116             709782       L165850                            NaN   \n",
       "127             709793       L178388  2010/01/19 16:31:44.491000000   \n",
       "136             709802    2009032201  2010/01/19 16:13:22.082000000   \n",
       "137             709803       L188583  2010/02/01 15:52:28.614000000   \n",
       "...                ...           ...                            ...   \n",
       "2261712        2988987       Y020128                            NaN   \n",
       "2261721        2988996       L202960                            NaN   \n",
       "2261737        2989012       C022707  2020/04/03 10:57:09.536000000   \n",
       "2261740        2989015       C020979                            NaN   \n",
       "2261741        2989016       C021490                            NaN   \n",
       "\n",
       "                       data_emprestimo                 data_devolucao  \\\n",
       "23       2010/01/04 09:48:05.604000000  2010/02/04 18:23:49.946000000   \n",
       "116      2010/01/04 14:06:16.699000000  2010/01/22 16:09:20.065000000   \n",
       "127      2010/01/04 14:47:41.976000000  2010/02/01 16:29:17.951000000   \n",
       "136      2010/01/04 14:57:23.766000000  2010/02/03 14:04:04.222000000   \n",
       "137      2010/01/04 15:03:04.753000000  2010/03/02 17:58:07.985000000   \n",
       "...                                ...                            ...   \n",
       "2261712  2020/03/17 19:14:36.276000000  2021/07/30 14:46:13.000000000   \n",
       "2261721  2020/03/17 19:19:44.292000000  2021/07/06 12:17:46.000000000   \n",
       "2261737  2020/03/17 19:31:47.457000000                            NaN   \n",
       "2261740  2020/03/17 19:42:58.781000000  2021/01/04 14:24:32.000000000   \n",
       "2261741  2020/03/17 19:42:58.828000000  2021/01/04 14:25:22.000000000   \n",
       "\n",
       "         matricula_ou_siape    tipo_vinculo_usuario  id_exemplar colecao  \\\n",
       "23             2.008029e+09      ALUNO DE GRADUAÇÃO          NaN     NaN   \n",
       "116            2.006213e+08      ALUNO DE GRADUAÇÃO          NaN     NaN   \n",
       "127            2.005063e+08      ALUNO DE GRADUAÇÃO          NaN     NaN   \n",
       "136            2.009054e+09      ALUNO DE GRADUAÇÃO          NaN     NaN   \n",
       "137            2.010117e+09  ALUNO DE PÓS-GRADUAÇÃO          NaN     NaN   \n",
       "...                     ...                     ...          ...     ...   \n",
       "2261712        2.016093e+09      ALUNO DE GRADUAÇÃO          NaN     NaN   \n",
       "2261721        2.014102e+09  ALUNO DE PÓS-GRADUAÇÃO          NaN     NaN   \n",
       "2261737        2.017006e+10      ALUNO DE GRADUAÇÃO          NaN     NaN   \n",
       "2261740        2.014017e+09      ALUNO DE GRADUAÇÃO          NaN     NaN   \n",
       "2261741        2.014017e+09      ALUNO DE GRADUAÇÃO          NaN     NaN   \n",
       "\n",
       "        biblioteca status_material  localizacao                CDU  \n",
       "23             NaN             NaN         -1.0  Sem classificação  \n",
       "116            NaN             NaN         -1.0  Sem classificação  \n",
       "127            NaN             NaN         -1.0  Sem classificação  \n",
       "136            NaN             NaN         -1.0  Sem classificação  \n",
       "137            NaN             NaN         -1.0  Sem classificação  \n",
       "...            ...             ...          ...                ...  \n",
       "2261712        NaN             NaN         -1.0  Sem classificação  \n",
       "2261721        NaN             NaN         -1.0  Sem classificação  \n",
       "2261737        NaN             NaN         -1.0  Sem classificação  \n",
       "2261740        NaN             NaN         -1.0  Sem classificação  \n",
       "2261741        NaN             NaN         -1.0  Sem classificação  \n",
       "\n",
       "[189258 rows x 13 columns]"
      ]
     },
     "execution_count": 24,
     "metadata": {},
     "output_type": "execute_result"
    }
   ],
   "source": [
    "emprestimo_exemplares.query('localizacao == -1')"
   ]
  },
  {
   "cell_type": "markdown",
   "metadata": {},
   "source": [
    "## Convertendo os demais dados"
   ]
  },
  {
   "cell_type": "code",
   "execution_count": 25,
   "metadata": {},
   "outputs": [],
   "source": [
    "emprestimo_exemplares['data_renovacao'] = pd.to_datetime(emprestimo_exemplares.loc[:,'data_renovacao'], format=\"%Y/%m/%d %H:%M:%S\", exact= False, errors='coerce')\n",
    "emprestimo_exemplares['data_devolucao'] = pd.to_datetime(emprestimo_exemplares['data_devolucao'], format=\"%Y/%m/%d %H:%M:%S\", exact= False, errors='coerce')\n",
    "emprestimo_exemplares['data_emprestimo'] = pd.to_datetime(emprestimo_exemplares['data_emprestimo'],  format=\"%Y/%m/%d %H:%M:%S\", exact= False, errors='coerce')"
   ]
  },
  {
   "cell_type": "code",
   "execution_count": 26,
   "metadata": {},
   "outputs": [],
   "source": [
    "# Transformando colunas para string\n",
    "emprestimo_exemplares['id_emprestimo'] = emprestimo_exemplares['id_emprestimo'].astype(str)\n",
    "emprestimo_exemplares[\"id_exemplar\"] = emprestimo_exemplares[\"id_exemplar\"].astype(str)\n",
    "emprestimo_exemplares['localizacao'] = emprestimo_exemplares['localizacao'].astype(str)\n",
    "emprestimo_exemplares['matricula_ou_siape'] = emprestimo_exemplares['matricula_ou_siape'].astype(str)"
   ]
  },
  {
   "cell_type": "code",
   "execution_count": 27,
   "metadata": {},
   "outputs": [
    {
     "data": {
      "text/html": [
       "<div>\n",
       "<style scoped>\n",
       "    .dataframe tbody tr th:only-of-type {\n",
       "        vertical-align: middle;\n",
       "    }\n",
       "\n",
       "    .dataframe tbody tr th {\n",
       "        vertical-align: top;\n",
       "    }\n",
       "\n",
       "    .dataframe thead th {\n",
       "        text-align: right;\n",
       "    }\n",
       "</style>\n",
       "<table border=\"1\" class=\"dataframe\">\n",
       "  <thead>\n",
       "    <tr style=\"text-align: right;\">\n",
       "      <th></th>\n",
       "      <th>id_emprestimo</th>\n",
       "      <th>codigo_barras</th>\n",
       "      <th>data_renovacao</th>\n",
       "      <th>data_emprestimo</th>\n",
       "      <th>data_devolucao</th>\n",
       "      <th>matricula_ou_siape</th>\n",
       "      <th>tipo_vinculo_usuario</th>\n",
       "      <th>id_exemplar</th>\n",
       "      <th>colecao</th>\n",
       "      <th>biblioteca</th>\n",
       "      <th>status_material</th>\n",
       "      <th>localizacao</th>\n",
       "      <th>CDU</th>\n",
       "    </tr>\n",
       "  </thead>\n",
       "  <tbody>\n",
       "    <tr>\n",
       "      <th>0</th>\n",
       "      <td>709684</td>\n",
       "      <td>L095049</td>\n",
       "      <td>NaT</td>\n",
       "      <td>2010-01-04 07:44:10</td>\n",
       "      <td>2010-01-05 16:26:12</td>\n",
       "      <td>2008023265.0</td>\n",
       "      <td>ALUNO DE GRADUAÇÃO</td>\n",
       "      <td>13259.0</td>\n",
       "      <td>Acervo Circulante</td>\n",
       "      <td>Biblioteca Central Zila Mamede</td>\n",
       "      <td>REGULAR</td>\n",
       "      <td>630.0</td>\n",
       "      <td>Geografia. Biografia. História</td>\n",
       "    </tr>\n",
       "    <tr>\n",
       "      <th>1</th>\n",
       "      <td>709685</td>\n",
       "      <td>L167050</td>\n",
       "      <td>NaT</td>\n",
       "      <td>2010-01-04 07:44:10</td>\n",
       "      <td>2010-01-12 07:34:13</td>\n",
       "      <td>2008023265.0</td>\n",
       "      <td>ALUNO DE GRADUAÇÃO</td>\n",
       "      <td>70865.0</td>\n",
       "      <td>Acervo Circulante</td>\n",
       "      <td>Biblioteca Central Zila Mamede</td>\n",
       "      <td>REGULAR</td>\n",
       "      <td>647.0</td>\n",
       "      <td>Geografia. Biografia. História</td>\n",
       "    </tr>\n",
       "    <tr>\n",
       "      <th>2</th>\n",
       "      <td>709686</td>\n",
       "      <td>2006017618</td>\n",
       "      <td>2010-01-26 08:07:01</td>\n",
       "      <td>2010-01-04 08:08:44</td>\n",
       "      <td>2010-02-25 07:36:25</td>\n",
       "      <td>2008112114.0</td>\n",
       "      <td>ALUNO DE PÓS-GRADUAÇÃO</td>\n",
       "      <td>195347.0</td>\n",
       "      <td>Acervo Circulante</td>\n",
       "      <td>Biblioteca Setorial Prof. Rodolfo Helinski - E...</td>\n",
       "      <td>REGULAR</td>\n",
       "      <td>640.0</td>\n",
       "      <td>Geografia. Biografia. História</td>\n",
       "    </tr>\n",
       "    <tr>\n",
       "      <th>3</th>\n",
       "      <td>709687</td>\n",
       "      <td>L184117</td>\n",
       "      <td>2010-01-18 11:07:46</td>\n",
       "      <td>2010-01-04 08:24:21</td>\n",
       "      <td>2010-02-03 08:58:45</td>\n",
       "      <td>200721119.0</td>\n",
       "      <td>ALUNO DE GRADUAÇÃO</td>\n",
       "      <td>131639.0</td>\n",
       "      <td>Acervo Circulante</td>\n",
       "      <td>Biblioteca Central Zila Mamede</td>\n",
       "      <td>REGULAR</td>\n",
       "      <td>609.0</td>\n",
       "      <td>Geografia. Biografia. História</td>\n",
       "    </tr>\n",
       "    <tr>\n",
       "      <th>4</th>\n",
       "      <td>709684</td>\n",
       "      <td>L095049</td>\n",
       "      <td>NaT</td>\n",
       "      <td>2010-01-04 07:44:10</td>\n",
       "      <td>2010-01-05 16:26:12</td>\n",
       "      <td>2008023265.0</td>\n",
       "      <td>ALUNO DE GRADUAÇÃO</td>\n",
       "      <td>13259.0</td>\n",
       "      <td>Acervo Circulante</td>\n",
       "      <td>Biblioteca Central Zila Mamede</td>\n",
       "      <td>REGULAR</td>\n",
       "      <td>630.0</td>\n",
       "      <td>Geografia. Biografia. História</td>\n",
       "    </tr>\n",
       "  </tbody>\n",
       "</table>\n",
       "</div>"
      ],
      "text/plain": [
       "  id_emprestimo codigo_barras      data_renovacao     data_emprestimo  \\\n",
       "0        709684       L095049                 NaT 2010-01-04 07:44:10   \n",
       "1        709685       L167050                 NaT 2010-01-04 07:44:10   \n",
       "2        709686    2006017618 2010-01-26 08:07:01 2010-01-04 08:08:44   \n",
       "3        709687       L184117 2010-01-18 11:07:46 2010-01-04 08:24:21   \n",
       "4        709684       L095049                 NaT 2010-01-04 07:44:10   \n",
       "\n",
       "       data_devolucao matricula_ou_siape    tipo_vinculo_usuario id_exemplar  \\\n",
       "0 2010-01-05 16:26:12       2008023265.0      ALUNO DE GRADUAÇÃO     13259.0   \n",
       "1 2010-01-12 07:34:13       2008023265.0      ALUNO DE GRADUAÇÃO     70865.0   \n",
       "2 2010-02-25 07:36:25       2008112114.0  ALUNO DE PÓS-GRADUAÇÃO    195347.0   \n",
       "3 2010-02-03 08:58:45        200721119.0      ALUNO DE GRADUAÇÃO    131639.0   \n",
       "4 2010-01-05 16:26:12       2008023265.0      ALUNO DE GRADUAÇÃO     13259.0   \n",
       "\n",
       "             colecao                                         biblioteca  \\\n",
       "0  Acervo Circulante                     Biblioteca Central Zila Mamede   \n",
       "1  Acervo Circulante                     Biblioteca Central Zila Mamede   \n",
       "2  Acervo Circulante  Biblioteca Setorial Prof. Rodolfo Helinski - E...   \n",
       "3  Acervo Circulante                     Biblioteca Central Zila Mamede   \n",
       "4  Acervo Circulante                     Biblioteca Central Zila Mamede   \n",
       "\n",
       "  status_material localizacao                             CDU  \n",
       "0         REGULAR       630.0  Geografia. Biografia. História  \n",
       "1         REGULAR       647.0  Geografia. Biografia. História  \n",
       "2         REGULAR       640.0  Geografia. Biografia. História  \n",
       "3         REGULAR       609.0  Geografia. Biografia. História  \n",
       "4         REGULAR       630.0  Geografia. Biografia. História  "
      ]
     },
     "execution_count": 27,
     "metadata": {},
     "output_type": "execute_result"
    }
   ],
   "source": [
    "emprestimo_exemplares.head()"
   ]
  },
  {
   "cell_type": "code",
   "execution_count": 28,
   "metadata": {},
   "outputs": [
    {
     "data": {
      "text/plain": [
       "id_emprestimo                 0\n",
       "codigo_barras                 0\n",
       "data_renovacao          1287963\n",
       "data_emprestimo               0\n",
       "data_devolucao             6484\n",
       "matricula_ou_siape            0\n",
       "tipo_vinculo_usuario          0\n",
       "id_exemplar                   0\n",
       "colecao                  189258\n",
       "biblioteca               189258\n",
       "status_material          189258\n",
       "localizacao                   0\n",
       "CDU                           0\n",
       "dtype: int64"
      ]
     },
     "execution_count": 28,
     "metadata": {},
     "output_type": "execute_result"
    }
   ],
   "source": [
    "emprestimo_exemplares.isnull().sum()"
   ]
  },
  {
   "cell_type": "code",
   "execution_count": 31,
   "metadata": {},
   "outputs": [],
   "source": [
    "# preenchendo dados nulos na coluna matricula_ou_siape\n",
    "emprestimo_exemplares['colecao'].fillna(value=0, inplace=True)\n",
    "emprestimo_exemplares['biblioteca'].fillna(value=0, inplace=True)\n",
    "emprestimo_exemplares['status_material'].fillna(value=0, inplace=True)"
   ]
  },
  {
   "cell_type": "code",
   "execution_count": 32,
   "metadata": {},
   "outputs": [
    {
     "data": {
      "text/plain": [
       "id_emprestimo                 0\n",
       "codigo_barras                 0\n",
       "data_renovacao          1287963\n",
       "data_emprestimo               0\n",
       "data_devolucao             6484\n",
       "matricula_ou_siape            0\n",
       "tipo_vinculo_usuario          0\n",
       "id_exemplar                   0\n",
       "colecao                       0\n",
       "biblioteca                    0\n",
       "status_material               0\n",
       "localizacao                   0\n",
       "CDU                           0\n",
       "dtype: int64"
      ]
     },
     "execution_count": 32,
     "metadata": {},
     "output_type": "execute_result"
    }
   ],
   "source": [
    "emprestimo_exemplares.isnull().sum()"
   ]
  },
  {
   "cell_type": "code",
   "execution_count": 34,
   "metadata": {},
   "outputs": [
    {
     "name": "stdout",
     "output_type": "stream",
     "text": [
      "<class 'pandas.core.frame.DataFrame'>\n",
      "RangeIndex: 2261816 entries, 0 to 2261815\n",
      "Data columns (total 13 columns):\n",
      " #   Column                Dtype         \n",
      "---  ------                -----         \n",
      " 0   id_emprestimo         object        \n",
      " 1   codigo_barras         object        \n",
      " 2   data_renovacao        datetime64[ns]\n",
      " 3   data_emprestimo       datetime64[ns]\n",
      " 4   data_devolucao        datetime64[ns]\n",
      " 5   matricula_ou_siape    object        \n",
      " 6   tipo_vinculo_usuario  object        \n",
      " 7   id_exemplar           object        \n",
      " 8   colecao               object        \n",
      " 9   biblioteca            object        \n",
      " 10  status_material       object        \n",
      " 11  localizacao           object        \n",
      " 12  CDU                   object        \n",
      "dtypes: datetime64[ns](3), object(10)\n",
      "memory usage: 224.3+ MB\n"
     ]
    }
   ],
   "source": [
    "emprestimo_exemplares.info()"
   ]
  },
  {
   "cell_type": "code",
   "execution_count": 33,
   "metadata": {},
   "outputs": [],
   "source": [
    "emprestimo_exemplares.to_csv('emprestimo_exemplares.csv')"
   ]
  }
 ],
 "metadata": {
  "kernelspec": {
   "display_name": "Python 3",
   "language": "python",
   "name": "python3"
  },
  "language_info": {
   "codemirror_mode": {
    "name": "ipython",
    "version": 3
   },
   "file_extension": ".py",
   "mimetype": "text/x-python",
   "name": "python",
   "nbconvert_exporter": "python",
   "pygments_lexer": "ipython3",
   "version": "3.11.3"
  }
 },
 "nbformat": 4,
 "nbformat_minor": 2
}
